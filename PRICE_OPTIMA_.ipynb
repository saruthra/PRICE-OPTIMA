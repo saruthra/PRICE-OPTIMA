{
  "nbformat": 4,
  "nbformat_minor": 0,
  "metadata": {
    "colab": {
      "provenance": []
    },
    "kernelspec": {
      "name": "python3",
      "display_name": "Python 3"
    },
    "language_info": {
      "name": "python"
    }
  },
  "cells": [
    {
      "cell_type": "code",
      "source": [
        "import pandas as pd\n",
        "\n",
        "df = pd.read_csv(\"dynamic_pricing.csv\")\n",
        "\n",
        "# Head & Tail\n",
        "print(\"🔹 First 5 rows:\")\n",
        "print(df.head())\n",
        "\n",
        "print(\"\\n🔹 Last 5 rows:\")\n",
        "print(df.tail())\n",
        "\n",
        "# Info\n",
        "print(\"\\n🔹 Dataset Info:\")\n",
        "print(df.info())\n",
        "\n",
        "# Shape\n",
        "print(\"\\nShape (rows, cols):\", df.shape)\n",
        "\n",
        "# This checks the start, end, data types, and structure.\n"
      ],
      "metadata": {
        "colab": {
          "base_uri": "https://localhost:8080/"
        },
        "id": "Q_vmueXKBSZv",
        "outputId": "a88481fd-4235-4320-fd0b-c2041e76fb3c"
      },
      "execution_count": 2,
      "outputs": [
        {
          "output_type": "stream",
          "name": "stdout",
          "text": [
            "🔹 First 5 rows:\n",
            "   Number_of_Riders  Number_of_Drivers Location_Category  \\\n",
            "0                90                 45             Urban   \n",
            "1                58                 39          Suburban   \n",
            "2                42                 31             Rural   \n",
            "3                89                 28             Rural   \n",
            "4                78                 22             Rural   \n",
            "\n",
            "  Customer_Loyalty_Status  Number_of_Past_Rides  Average_Ratings  \\\n",
            "0                  Silver                    13             4.47   \n",
            "1                  Silver                    72             4.06   \n",
            "2                  Silver                     0             3.99   \n",
            "3                 Regular                    67             4.31   \n",
            "4                 Regular                    74             3.77   \n",
            "\n",
            "  Time_of_Booking Vehicle_Type  Expected_Ride_Duration  \\\n",
            "0           Night      Premium                      90   \n",
            "1         Evening      Economy                      43   \n",
            "2       Afternoon      Premium                      76   \n",
            "3       Afternoon      Premium                     134   \n",
            "4       Afternoon      Economy                     149   \n",
            "\n",
            "   Historical_Cost_of_Ride  \n",
            "0               284.257273  \n",
            "1               173.874753  \n",
            "2               329.795469  \n",
            "3               470.201232  \n",
            "4               579.681422  \n",
            "\n",
            "🔹 Last 5 rows:\n",
            "     Number_of_Riders  Number_of_Drivers Location_Category  \\\n",
            "995                33                 23             Urban   \n",
            "996                84                 29             Urban   \n",
            "997                44                  6          Suburban   \n",
            "998                53                 27          Suburban   \n",
            "999                78                 63             Rural   \n",
            "\n",
            "    Customer_Loyalty_Status  Number_of_Past_Rides  Average_Ratings  \\\n",
            "995                    Gold                    24             4.21   \n",
            "996                 Regular                    92             4.55   \n",
            "997                    Gold                    80             4.13   \n",
            "998                 Regular                    78             3.63   \n",
            "999                    Gold                    14             4.21   \n",
            "\n",
            "    Time_of_Booking Vehicle_Type  Expected_Ride_Duration  \\\n",
            "995         Morning      Premium                      11   \n",
            "996         Morning      Premium                      94   \n",
            "997           Night      Premium                      40   \n",
            "998           Night      Premium                      58   \n",
            "999       Afternoon      Economy                     147   \n",
            "\n",
            "     Historical_Cost_of_Ride  \n",
            "995                91.389526  \n",
            "996               424.155987  \n",
            "997               157.364830  \n",
            "998               279.095048  \n",
            "999               655.065106  \n",
            "\n",
            "🔹 Dataset Info:\n",
            "<class 'pandas.core.frame.DataFrame'>\n",
            "RangeIndex: 1000 entries, 0 to 999\n",
            "Data columns (total 10 columns):\n",
            " #   Column                   Non-Null Count  Dtype  \n",
            "---  ------                   --------------  -----  \n",
            " 0   Number_of_Riders         1000 non-null   int64  \n",
            " 1   Number_of_Drivers        1000 non-null   int64  \n",
            " 2   Location_Category        1000 non-null   object \n",
            " 3   Customer_Loyalty_Status  1000 non-null   object \n",
            " 4   Number_of_Past_Rides     1000 non-null   int64  \n",
            " 5   Average_Ratings          1000 non-null   float64\n",
            " 6   Time_of_Booking          1000 non-null   object \n",
            " 7   Vehicle_Type             1000 non-null   object \n",
            " 8   Expected_Ride_Duration   1000 non-null   int64  \n",
            " 9   Historical_Cost_of_Ride  1000 non-null   float64\n",
            "dtypes: float64(2), int64(4), object(4)\n",
            "memory usage: 78.3+ KB\n",
            "None\n",
            "\n",
            "Shape (rows, cols): (1000, 10)\n"
          ]
        }
      ]
    },
    {
      "cell_type": "code",
      "source": [
        "print(\"\\n🔹 Column Names:\")\n",
        "print(df.columns.tolist())\n",
        "\n",
        "# Sanity: strip spaces, lowercase, replace bad chars\n",
        "df.columns = df.columns.str.strip().str.lower().str.replace(\" \", \"_\")\n",
        "print(\"\\n🔹 Cleaned Column Names:\")\n",
        "print(df.columns.tolist())\n",
        "\n",
        "\n",
        "#Ensures column names are clean and consistent."
      ],
      "metadata": {
        "colab": {
          "base_uri": "https://localhost:8080/"
        },
        "id": "B_aWneG-BY3J",
        "outputId": "232da7a2-4a6e-4159-ec8d-80e9c98a0f36"
      },
      "execution_count": 3,
      "outputs": [
        {
          "output_type": "stream",
          "name": "stdout",
          "text": [
            "\n",
            "🔹 Column Names:\n",
            "['Number_of_Riders', 'Number_of_Drivers', 'Location_Category', 'Customer_Loyalty_Status', 'Number_of_Past_Rides', 'Average_Ratings', 'Time_of_Booking', 'Vehicle_Type', 'Expected_Ride_Duration', 'Historical_Cost_of_Ride']\n",
            "\n",
            "🔹 Cleaned Column Names:\n",
            "['number_of_riders', 'number_of_drivers', 'location_category', 'customer_loyalty_status', 'number_of_past_rides', 'average_ratings', 'time_of_booking', 'vehicle_type', 'expected_ride_duration', 'historical_cost_of_ride']\n"
          ]
        }
      ]
    },
    {
      "cell_type": "markdown",
      "source": [],
      "metadata": {
        "id": "H1zpVKDjCqw-"
      }
    },
    {
      "cell_type": "code",
      "source": [
        "print(\"\\n🔹 Missing Values Count:\")\n",
        "print(df.isnull().sum())\n",
        "\n",
        "print(\"\\n🔹 Percentage of Missing Values:\")\n",
        "print((df.isnull().mean() * 100).round(2))\n",
        "\n",
        "# Tells us how many missing values per column."
      ],
      "metadata": {
        "colab": {
          "base_uri": "https://localhost:8080/"
        },
        "id": "2LPhd-EyBbef",
        "outputId": "4d829d13-df01-4c8c-e77a-ee2c704e60fb"
      },
      "execution_count": 4,
      "outputs": [
        {
          "output_type": "stream",
          "name": "stdout",
          "text": [
            "\n",
            "🔹 Missing Values Count:\n",
            "number_of_riders           0\n",
            "number_of_drivers          0\n",
            "location_category          0\n",
            "customer_loyalty_status    0\n",
            "number_of_past_rides       0\n",
            "average_ratings            0\n",
            "time_of_booking            0\n",
            "vehicle_type               0\n",
            "expected_ride_duration     0\n",
            "historical_cost_of_ride    0\n",
            "dtype: int64\n",
            "\n",
            "🔹 Percentage of Missing Values:\n",
            "number_of_riders           0.0\n",
            "number_of_drivers          0.0\n",
            "location_category          0.0\n",
            "customer_loyalty_status    0.0\n",
            "number_of_past_rides       0.0\n",
            "average_ratings            0.0\n",
            "time_of_booking            0.0\n",
            "vehicle_type               0.0\n",
            "expected_ride_duration     0.0\n",
            "historical_cost_of_ride    0.0\n",
            "dtype: float64\n"
          ]
        }
      ]
    },
    {
      "cell_type": "code",
      "source": [
        "print(\"\\n🔹 Number of duplicate rows:\", df.duplicated().sum())\n",
        "# Helps remove redundancy."
      ],
      "metadata": {
        "colab": {
          "base_uri": "https://localhost:8080/"
        },
        "id": "--FXnAUIBeKF",
        "outputId": "0ed3d598-b218-41d7-8fb2-52a3a687d2f3"
      },
      "execution_count": 5,
      "outputs": [
        {
          "output_type": "stream",
          "name": "stdout",
          "text": [
            "\n",
            "🔹 Number of duplicate rows: 0\n"
          ]
        }
      ]
    },
    {
      "cell_type": "code",
      "source": [
        "num_cols = df.select_dtypes(include=[\"int64\",\"float64\"]).columns.tolist()\n",
        "cat_cols = df.select_dtypes(include=[\"object\",\"category\"]).columns.tolist()\n",
        "\n",
        "print(\"\\n🔹 Numerical Columns:\", num_cols)\n",
        "print(\"\\n🔹 Categorical Columns:\", cat_cols)\n",
        "# Shows mean, std, min, max, percentiles."
      ],
      "metadata": {
        "colab": {
          "base_uri": "https://localhost:8080/"
        },
        "id": "xBxGroPsBian",
        "outputId": "0196b32a-a644-469c-9f48-7675c0b7d89f"
      },
      "execution_count": 6,
      "outputs": [
        {
          "output_type": "stream",
          "name": "stdout",
          "text": [
            "\n",
            "🔹 Numerical Columns: ['number_of_riders', 'number_of_drivers', 'number_of_past_rides', 'average_ratings', 'expected_ride_duration', 'historical_cost_of_ride']\n",
            "\n",
            "🔹 Categorical Columns: ['location_category', 'customer_loyalty_status', 'time_of_booking', 'vehicle_type']\n"
          ]
        }
      ]
    },
    {
      "cell_type": "code",
      "source": [
        "print(\"\\n🔹 Numerical Columns Description:\")\n",
        "print(df[num_cols].describe().T)\n",
        "# Useful for plotting distributions"
      ],
      "metadata": {
        "colab": {
          "base_uri": "https://localhost:8080/"
        },
        "id": "snk6db8vBjqN",
        "outputId": "48663173-4d83-4705-a5d2-3e029211a6e0"
      },
      "execution_count": 7,
      "outputs": [
        {
          "output_type": "stream",
          "name": "stdout",
          "text": [
            "\n",
            "🔹 Numerical Columns Description:\n",
            "                          count        mean         std        min  \\\n",
            "number_of_riders         1000.0   60.372000   23.701506  20.000000   \n",
            "number_of_drivers        1000.0   27.076000   19.068346   5.000000   \n",
            "number_of_past_rides     1000.0   50.031000   29.313774   0.000000   \n",
            "average_ratings          1000.0    4.257220    0.435781   3.500000   \n",
            "expected_ride_duration   1000.0   99.588000   49.165450  10.000000   \n",
            "historical_cost_of_ride  1000.0  372.502623  187.158756  25.993449   \n",
            "\n",
            "                                25%         50%         75%         max  \n",
            "number_of_riders          40.000000   60.000000   81.000000  100.000000  \n",
            "number_of_drivers         11.000000   22.000000   38.000000   89.000000  \n",
            "number_of_past_rides      25.000000   51.000000   75.000000  100.000000  \n",
            "average_ratings            3.870000    4.270000    4.632500    5.000000  \n",
            "expected_ride_duration    59.750000  102.000000  143.000000  180.000000  \n",
            "historical_cost_of_ride  221.365202  362.019426  510.497504  836.116419  \n"
          ]
        }
      ]
    },
    {
      "cell_type": "markdown",
      "source": [],
      "metadata": {
        "id": "HwjshFKKEJG9"
      }
    },
    {
      "cell_type": "code",
      "source": [
        "# Melt numerical columns into one column for visualization\n",
        "num_long = df[num_cols].melt(var_name=\"feature\", value_name=\"value\")\n",
        "print(num_long.head())\n"
      ],
      "metadata": {
        "colab": {
          "base_uri": "https://localhost:8080/"
        },
        "id": "7oCWpwuLBnRu",
        "outputId": "f6c52f45-1d22-4b00-9541-a268b2e05f52"
      },
      "execution_count": 8,
      "outputs": [
        {
          "output_type": "stream",
          "name": "stdout",
          "text": [
            "            feature  value\n",
            "0  number_of_riders   90.0\n",
            "1  number_of_riders   58.0\n",
            "2  number_of_riders   42.0\n",
            "3  number_of_riders   89.0\n",
            "4  number_of_riders   78.0\n"
          ]
        }
      ]
    },
    {
      "cell_type": "code",
      "source": [
        "import numpy as np\n",
        "\n",
        "def find_outliers_iqr(data, column):\n",
        "    Q1 = data[column].quantile(0.25)\n",
        "    Q3 = data[column].quantile(0.75)\n",
        "    IQR = Q3 - Q1\n",
        "    lower = Q1 - 1.5 * IQR\n",
        "    upper = Q3 + 1.5 * IQR\n",
        "    outliers = data[(data[column] < lower) | (data[column] > upper)]\n",
        "    return outliers, lower, upper\n",
        "\n",
        "for col in num_cols:\n",
        "    outliers, low, high = find_outliers_iqr(df, col)\n",
        "    print(f\"\\n🔹 {col}: {len(outliers)} outliers (lower={low:.2f}, upper={high:.2f})\")\n"
      ],
      "metadata": {
        "colab": {
          "base_uri": "https://localhost:8080/"
        },
        "id": "5w5DOalbBpwy",
        "outputId": "4014dced-241a-41c1-bf4b-88a579a7302e"
      },
      "execution_count": 9,
      "outputs": [
        {
          "output_type": "stream",
          "name": "stdout",
          "text": [
            "\n",
            "🔹 number_of_riders: 0 outliers (lower=-21.50, upper=142.50)\n",
            "\n",
            "🔹 number_of_drivers: 10 outliers (lower=-29.50, upper=78.50)\n",
            "\n",
            "🔹 number_of_past_rides: 0 outliers (lower=-50.00, upper=150.00)\n",
            "\n",
            "🔹 average_ratings: 0 outliers (lower=2.73, upper=5.78)\n",
            "\n",
            "🔹 expected_ride_duration: 0 outliers (lower=-65.12, upper=267.88)\n",
            "\n",
            "🔹 historical_cost_of_ride: 0 outliers (lower=-212.33, upper=944.20)\n"
          ]
        }
      ]
    },
    {
      "cell_type": "code",
      "source": [
        "import matplotlib.pyplot as plt\n",
        "import seaborn as sns\n",
        "\n",
        "# Boxplot of numerical features\n",
        "plt.figure(figsize=(12,6))\n",
        "df[num_cols].boxplot()\n",
        "plt.xticks(rotation=45)\n",
        "plt.title(\"Boxplots of Numerical Features\")\n",
        "plt.show()\n"
      ],
      "metadata": {
        "colab": {
          "base_uri": "https://localhost:8080/",
          "height": 657
        },
        "id": "7OF3_-J6BrVM",
        "outputId": "00536ac0-4493-47f2-cfcb-b8decf486aa8"
      },
      "execution_count": 10,
      "outputs": [
        {
          "output_type": "display_data",
          "data": {
            "text/plain": [
              "<Figure size 1200x600 with 1 Axes>"
            ],
            "image/png": "[encoded data removed]"
          },
          "metadata": {}
        }
      ]
    },
    {
      "cell_type": "code",
      "source": [
        "import seaborn as sns\n",
        "import matplotlib.pyplot as plt\n",
        "\n",
        "plt.figure(figsize=(10,6))\n",
        "sns.heatmap(df[num_cols].corr(), annot=True, cmap=\"coolwarm\")\n",
        "plt.title(\"Correlation Heatmap of Numerical Features\")\n",
        "plt.show()\n"
      ],
      "metadata": {
        "colab": {
          "base_uri": "https://localhost:8080/",
          "height": 695
        },
        "id": "Dftsuc3pCFSF",
        "outputId": "23cc7b70-513f-4d26-ad9b-467067afd521"
      },
      "execution_count": 11,
      "outputs": [
        {
          "output_type": "display_data",
          "data": {
            "text/plain": [
              "<Figure size 1000x600 with 2 Axes>"
            ],
            "image/png": "[encoded data removed]"
          },
          "metadata": {}
        }
      ]
    },
    {
      "cell_type": "code",
      "source": [
        "for col in cat_cols:\n",
        "    print(f\"\\n{col} value counts:\")\n",
        "    print(df[col].value_counts(normalize=True))\n"
      ],
      "metadata": {
        "colab": {
          "base_uri": "https://localhost:8080/"
        },
        "id": "WrnZNOL5CHyV",
        "outputId": "eba55948-9f0d-48cc-9c4d-0694b244aef3"
      },
      "execution_count": 12,
      "outputs": [
        {
          "output_type": "stream",
          "name": "stdout",
          "text": [
            "\n",
            "location_category value counts:\n",
            "location_category\n",
            "Urban       0.346\n",
            "Rural       0.332\n",
            "Suburban    0.322\n",
            "Name: proportion, dtype: float64\n",
            "\n",
            "customer_loyalty_status value counts:\n",
            "customer_loyalty_status\n",
            "Silver     0.367\n",
            "Regular    0.320\n",
            "Gold       0.313\n",
            "Name: proportion, dtype: float64\n",
            "\n",
            "time_of_booking value counts:\n",
            "time_of_booking\n",
            "Night        0.276\n",
            "Afternoon    0.247\n",
            "Morning      0.246\n",
            "Evening      0.231\n",
            "Name: proportion, dtype: float64\n",
            "\n",
            "vehicle_type value counts:\n",
            "vehicle_type\n",
            "Premium    0.522\n",
            "Economy    0.478\n",
            "Name: proportion, dtype: float64\n"
          ]
        }
      ]
    },
    {
      "cell_type": "code",
      "source": [
        "from scipy.stats import skew\n",
        "\n",
        "for col in num_cols:\n",
        "    print(f\"{col} skewness: {skew(df[col])}\")\n"
      ],
      "metadata": {
        "colab": {
          "base_uri": "https://localhost:8080/"
        },
        "id": "BN0eZSZFCLkL",
        "outputId": "2f274411-f946-4a51-ad0a-5169166e4b47"
      },
      "execution_count": 13,
      "outputs": [
        {
          "output_type": "stream",
          "name": "stdout",
          "text": [
            "number_of_riders skewness: 0.0021632616645425417\n",
            "number_of_drivers skewness: 0.9617588924264777\n",
            "number_of_past_rides skewness: -0.008444267438104912\n",
            "average_ratings skewness: -0.07863604521780783\n",
            "expected_ride_duration skewness: -0.13965805969802533\n",
            "historical_cost_of_ride skewness: 0.20926523813030767\n"
          ]
        }
      ]
    },
    {
      "cell_type": "code",
      "source": [
        "# =============================\n",
        "# KPI Calculations for Dynamic Pricing Dataset\n",
        "# =============================\n",
        "\n",
        "# Map dataset columns to our KPI terms\n",
        "df['Price'] = df['Historical_Cost_of_Ride']\n",
        "df['CompletedRides'] = df['Number_of_Riders']\n",
        "\n",
        "# Assume cost per ride = 70% of price (example, since cost column not available)\n",
        "# You can adjust this value if you have actual operating cost data\n",
        "df['Cost_per_ride'] = df['Price'] * 0.7\n",
        "\n",
        "# ---------- KPI 1: Revenue ----------\n",
        "df['Revenue'] = df['Price'] * df['CompletedRides']\n",
        "\n",
        "# ---------- KPI 2: Profit ----------\n",
        "df['Profit'] = (df['Price'] - df['Cost_per_ride']) * df['CompletedRides']\n",
        "\n",
        "# ---------- KPI 3: Revenue Lift (%) ----------\n",
        "# Baseline Revenue = mean revenue across dataset\n",
        "baseline_revenue = df['Revenue'].mean()\n",
        "df['Revenue_Lift_%'] = ((df['Revenue'] - baseline_revenue) / baseline_revenue) * 100\n",
        "\n",
        "# ---------- KPI 4: Gross Margin (%) ----------\n",
        "df['Gross_Margin_%'] = (df['Profit'] / df['Revenue']) * 100\n",
        "\n",
        "# ---------- KPI 5: Conversion Rate (%) ----------\n",
        "# Since dataset doesn’t have booking intents, assume \"Number_of_Riders\" = completed rides\n",
        "# For now, set booking intents = riders + 10% (example assumption)\n",
        "df['BookingIntents'] = df['CompletedRides'] * 1.1\n",
        "df['Conversion_Rate_%'] = (df['CompletedRides'] / df['BookingIntents']) * 100\n",
        "\n",
        "# ---------- KPI 6: Price Change Rate (%) ----------\n",
        "# Price volatility: percent difference from mean price\n",
        "mean_price = df['Price'].mean()\n",
        "df['Price_Change_%'] = (abs(df['Price'] - mean_price) / mean_price) * 100\n",
        "\n",
        "# ---------- KPI 7: Cancellation Rate (%) ----------\n",
        "# If no \"CancelledRides\" column exists, assume cancellation = 5% of riders (example assumption)\n",
        "df['CancelledRides'] = df['CompletedRides'] * 0.05\n",
        "df['Cancellation_Rate_%'] = (df['CancelledRides'] / (df['CompletedRides'] + df['CancelledRides'])) * 100\n",
        "\n",
        "# =============================\n",
        "# Final KPI Summary\n",
        "# =============================\n",
        "kpi_summary = {\n",
        "    \"Total Revenue (₹)\": df['Revenue'].sum(),\n",
        "    \"Total Profit (₹)\": df['Profit'].sum(),\n",
        "    \"Avg Revenue Lift (%)\": df['Revenue_Lift_%'].mean(),\n",
        "    \"Avg Gross Margin (%)\": df['Gross_Margin_%'].mean(),\n",
        "    \"Avg Conversion Rate (%)\": df['Conversion_Rate_%'].mean(),\n",
        "    \"Avg Price Change Rate (%)\": df['Price_Change_%'].mean(),\n",
        "    \"Avg Cancellation Rate (%)\": df['Cancellation_Rate_%'].mean()\n",
        "}\n",
        "\n",
        "# Show KPI summary\n",
        "print(\"\\n=== KPI Summary ===\")\n",
        "for k, v in kpi_summary.items():\n",
        "    print(f\"{k}: {v:.2f}\")\n",
        "\n",
        "# Preview dataframe with KPIs\n",
        "df.head()\n"
      ],
      "metadata": {
        "colab": {
          "base_uri": "https://localhost:8080/",
          "height": 419
        },
        "id": "aquUirIywX4H",
        "outputId": "7e9381d0-280a-4ff7-c950-e6fb50e8f77f"
      },
      "execution_count": 16,
      "outputs": [
        {
          "output_type": "stream",
          "name": "stdout",
          "text": [
            "\n",
            "=== KPI Summary ===\n",
            "Total Revenue (₹): 22514545.02\n",
            "Total Profit (₹): 6754363.51\n",
            "Avg Revenue Lift (%): 0.00\n",
            "Avg Gross Margin (%): 30.00\n",
            "Avg Conversion Rate (%): 90.91\n",
            "Avg Price Change Rate (%): 42.13\n",
            "Avg Cancellation Rate (%): 4.76\n"
          ]
        },
        {
          "output_type": "execute_result",
          "data": {
            "text/plain": [
              "   Number_of_Riders  Number_of_Drivers Location_Category  \\\n",
              "0                90                 45             Urban   \n",
              "1                58                 39          Suburban   \n",
              "2                42                 31             Rural   \n",
              "3                89                 28             Rural   \n",
              "4                78                 22             Rural   \n",
              "\n",
              "  Customer_Loyalty_Status  Number_of_Past_Rides  Average_Ratings  \\\n",
              "0                  Silver                    13             4.47   \n",
              "1                  Silver                    72             4.06   \n",
              "2                  Silver                     0             3.99   \n",
              "3                 Regular                    67             4.31   \n",
              "4                 Regular                    74             3.77   \n",
              "\n",
              "  Time_of_Booking Vehicle_Type  Expected_Ride_Duration  \\\n",
              "0           Night      Premium                      90   \n",
              "1         Evening      Economy                      43   \n",
              "2       Afternoon      Premium                      76   \n",
              "3       Afternoon      Premium                     134   \n",
              "4       Afternoon      Economy                     149   \n",
              "\n",
              "   Historical_Cost_of_Ride  ...  Cost_per_ride       Revenue        Profit  \\\n",
              "0               284.257273  ...     198.980091  25583.154572   7674.946372   \n",
              "1               173.874753  ...     121.712327  10084.735659   3025.420698   \n",
              "2               329.795469  ...     230.856828  13851.409696   4155.422909   \n",
              "3               470.201232  ...     329.140862  41847.909626  12554.372888   \n",
              "4               579.681422  ...     405.776996  45215.150944  13564.545283   \n",
              "\n",
              "   Revenue_Lift_%  Gross_Margin_%  BookingIntents  Conversion_Rate_%  \\\n",
              "0       13.629454            30.0            99.0          90.909091   \n",
              "1      -55.207908            30.0            63.8          90.909091   \n",
              "2      -38.477950            30.0            46.2          90.909091   \n",
              "3       85.870554            30.0            97.9          90.909091   \n",
              "4      100.826403            30.0            85.8          90.909091   \n",
              "\n",
              "   Price_Change_%  CancelledRides  Cancellation_Rate_%  \n",
              "0       23.689860            4.50             4.761905  \n",
              "1       53.322543            2.90             4.761905  \n",
              "2       11.464927            2.10             4.761905  \n",
              "3       26.227630            4.45             4.761905  \n",
              "4       55.618078            3.90             4.761905  \n",
              "\n",
              "[5 rows x 22 columns]"
            ],
            "text/html": [
              "\n",
              "  <div id=\"df-1f1572f4-35bd-40d3-9c72-cb3166a9bd54\" class=\"colab-df-container\">\n",
              "    <div>\n",
              "<style scoped>\n",
              "    .dataframe tbody tr th:only-of-type {\n",
              "        vertical-align: middle;\n",
              "    }\n",
              "\n",
              "    .dataframe tbody tr th {\n",
              "        vertical-align: top;\n",
              "    }\n",
              "\n",
              "    .dataframe thead th {\n",
              "        text-align: right;\n",
              "    }\n",
              "</style>\n",
              "<table border=\"1\" class=\"dataframe\">\n",
              "  <thead>\n",
              "    <tr style=\"text-align: right;\">\n",
              "      <th></th>\n",
              "      <th>Number_of_Riders</th>\n",
              "      <th>Number_of_Drivers</th>\n",
              "      <th>Location_Category</th>\n",
              "      <th>Customer_Loyalty_Status</th>\n",
              "      <th>Number_of_Past_Rides</th>\n",
              "      <th>Average_Ratings</th>\n",
              "      <th>Time_of_Booking</th>\n",
              "      <th>Vehicle_Type</th>\n",
              "      <th>Expected_Ride_Duration</th>\n",
              "      <th>Historical_Cost_of_Ride</th>\n",
              "      <th>...</th>\n",
              "      <th>Cost_per_ride</th>\n",
              "      <th>Revenue</th>\n",
              "      <th>Profit</th>\n",
              "      <th>Revenue_Lift_%</th>\n",
              "      <th>Gross_Margin_%</th>\n",
              "      <th>BookingIntents</th>\n",
              "      <th>Conversion_Rate_%</th>\n",
              "      <th>Price_Change_%</th>\n",
              "      <th>CancelledRides</th>\n",
              "      <th>Cancellation_Rate_%</th>\n",
              "    </tr>\n",
              "  </thead>\n",
              "  <tbody>\n",
              "    <tr>\n",
              "      <th>0</th>\n",
              "      <td>90</td>\n",
              "      <td>45</td>\n",
              "      <td>Urban</td>\n",
              "      <td>Silver</td>\n",
              "      <td>13</td>\n",
              "      <td>4.47</td>\n",
              "      <td>Night</td>\n",
              "      <td>Premium</td>\n",
              "      <td>90</td>\n",
              "      <td>284.257273</td>\n",
              "      <td>...</td>\n",
              "      <td>198.980091</td>\n",
              "      <td>25583.154572</td>\n",
              "      <td>7674.946372</td>\n",
              "      <td>13.629454</td>\n",
              "      <td>30.0</td>\n",
              "      <td>99.0</td>\n",
              "      <td>90.909091</td>\n",
              "      <td>23.689860</td>\n",
              "      <td>4.50</td>\n",
              "      <td>4.761905</td>\n",
              "    </tr>\n",
              "    <tr>\n",
              "      <th>1</th>\n",
              "      <td>58</td>\n",
              "      <td>39</td>\n",
              "      <td>Suburban</td>\n",
              "      <td>Silver</td>\n",
              "      <td>72</td>\n",
              "      <td>4.06</td>\n",
              "      <td>Evening</td>\n",
              "      <td>Economy</td>\n",
              "      <td>43</td>\n",
              "      <td>173.874753</td>\n",
              "      <td>...</td>\n",
              "      <td>121.712327</td>\n",
              "      <td>10084.735659</td>\n",
              "      <td>3025.420698</td>\n",
              "      <td>-55.207908</td>\n",
              "      <td>30.0</td>\n",
              "      <td>63.8</td>\n",
              "      <td>90.909091</td>\n",
              "      <td>53.322543</td>\n",
              "      <td>2.90</td>\n",
              "      <td>4.761905</td>\n",
              "    </tr>\n",
              "    <tr>\n",
              "      <th>2</th>\n",
              "      <td>42</td>\n",
              "      <td>31</td>\n",
              "      <td>Rural</td>\n",
              "      <td>Silver</td>\n",
              "      <td>0</td>\n",
              "      <td>3.99</td>\n",
              "      <td>Afternoon</td>\n",
              "      <td>Premium</td>\n",
              "      <td>76</td>\n",
              "      <td>329.795469</td>\n",
              "      <td>...</td>\n",
              "      <td>230.856828</td>\n",
              "      <td>13851.409696</td>\n",
              "      <td>4155.422909</td>\n",
              "      <td>-38.477950</td>\n",
              "      <td>30.0</td>\n",
              "      <td>46.2</td>\n",
              "      <td>90.909091</td>\n",
              "      <td>11.464927</td>\n",
              "      <td>2.10</td>\n",
              "      <td>4.761905</td>\n",
              "    </tr>\n",
              "    <tr>\n",
              "      <th>3</th>\n",
              "      <td>89</td>\n",
              "      <td>28</td>\n",
              "      <td>Rural</td>\n",
              "      <td>Regular</td>\n",
              "      <td>67</td>\n",
              "      <td>4.31</td>\n",
              "      <td>Afternoon</td>\n",
              "      <td>Premium</td>\n",
              "      <td>134</td>\n",
              "      <td>470.201232</td>\n",
              "      <td>...</td>\n",
              "      <td>329.140862</td>\n",
              "      <td>41847.909626</td>\n",
              "      <td>12554.372888</td>\n",
              "      <td>85.870554</td>\n",
              "      <td>30.0</td>\n",
              "      <td>97.9</td>\n",
              "      <td>90.909091</td>\n",
              "      <td>26.227630</td>\n",
              "      <td>4.45</td>\n",
              "      <td>4.761905</td>\n",
              "    </tr>\n",
              "    <tr>\n",
              "      <th>4</th>\n",
              "      <td>78</td>\n",
              "      <td>22</td>\n",
              "      <td>Rural</td>\n",
              "      <td>Regular</td>\n",
              "      <td>74</td>\n",
              "      <td>3.77</td>\n",
              "      <td>Afternoon</td>\n",
              "      <td>Economy</td>\n",
              "      <td>149</td>\n",
              "      <td>579.681422</td>\n",
              "      <td>...</td>\n",
              "      <td>405.776996</td>\n",
              "      <td>45215.150944</td>\n",
              "      <td>13564.545283</td>\n",
              "      <td>100.826403</td>\n",
              "      <td>30.0</td>\n",
              "      <td>85.8</td>\n",
              "      <td>90.909091</td>\n",
              "      <td>55.618078</td>\n",
              "      <td>3.90</td>\n",
              "      <td>4.761905</td>\n",
              "    </tr>\n",
              "  </tbody>\n",
              "</table>\n",
              "<p>5 rows × 22 columns</p>\n",
              "</div>\n",
              "    <div class=\"colab-df-buttons\">\n",
              "\n",
              "  <div class=\"colab-df-container\">\n",
              "    <button class=\"colab-df-convert\" onclick=\"convertToInteractive('df-1f1572f4-35bd-40d3-9c72-cb3166a9bd54')\"\n",
              "            title=\"Convert this dataframe to an interactive table.\"\n",
              "            style=\"display:none;\">\n",
              "\n",
              "  <svg xmlns=\"http://www.w3.org/2000/svg\" height=\"24px\" viewBox=\"0 -960 960 960\">\n",
              "    <path d=\"M120-120v-720h720v720H120Zm60-500h600v-160H180v160Zm220 220h160v-160H400v160Zm0 220h160v-160H400v160ZM180-400h160v-160H180v160Zm440 0h160v-160H620v160ZM180-180h160v-160H180v160Zm440 0h160v-160H620v160Z\"/>\n",
              "  </svg>\n",
              "    </button>\n",
              "\n",
              "  <style>\n",
              "    .colab-df-container {\n",
              "      display:flex;\n",
              "      gap: 12px;\n",
              "    }\n",
              "\n",
              "    .colab-df-convert {\n",
              "      background-color: #E8F0FE;\n",
              "      border: none;\n",
              "      border-radius: 50%;\n",
              "      cursor: pointer;\n",
              "      display: none;\n",
              "      fill: #1967D2;\n",
              "      height: 32px;\n",
              "      padding: 0 0 0 0;\n",
              "      width: 32px;\n",
              "    }\n",
              "\n",
              "    .colab-df-convert:hover {\n",
              "      background-color: #E2EBFA;\n",
              "      box-shadow: 0px 1px 2px rgba(60, 64, 67, 0.3), 0px 1px 3px 1px rgba(60, 64, 67, 0.15);\n",
              "      fill: #174EA6;\n",
              "    }\n",
              "\n",
              "    .colab-df-buttons div {\n",
              "      margin-bottom: 4px;\n",
              "    }\n",
              "\n",
              "    [theme=dark] .colab-df-convert {\n",
              "      background-color: #3B4455;\n",
              "      fill: #D2E3FC;\n",
              "    }\n",
              "\n",
              "    [theme=dark] .colab-df-convert:hover {\n",
              "      background-color: #434B5C;\n",
              "      box-shadow: 0px 1px 3px 1px rgba(0, 0, 0, 0.15);\n",
              "      filter: drop-shadow(0px 1px 2px rgba(0, 0, 0, 0.3));\n",
              "      fill: #FFFFFF;\n",
              "    }\n",
              "  </style>\n",
              "\n",
              "    <script>\n",
              "      const buttonEl =\n",
              "        document.querySelector('#df-1f1572f4-35bd-40d3-9c72-cb3166a9bd54 button.colab-df-convert');\n",
              "      buttonEl.style.display =\n",
              "        google.colab.kernel.accessAllowed ? 'block' : 'none';\n",
              "\n",
              "      async function convertToInteractive(key) {\n",
              "        const element = document.querySelector('#df-1f1572f4-35bd-40d3-9c72-cb3166a9bd54');\n",
              "        const dataTable =\n",
              "          await google.colab.kernel.invokeFunction('convertToInteractive',\n",
              "                                                    [key], {});\n",
              "        if (!dataTable) return;\n",
              "\n",
              "        const docLinkHtml = 'Like what you see? Visit the ' +\n",
              "          '<a target=\"_blank\" href=https://colab.research.google.com/notebooks/data_table.ipynb>data table notebook</a>'\n",
              "          + ' to learn more about interactive tables.';\n",
              "        element.innerHTML = '';\n",
              "        dataTable['output_type'] = 'display_data';\n",
              "        await google.colab.output.renderOutput(dataTable, element);\n",
              "        const docLink = document.createElement('div');\n",
              "        docLink.innerHTML = docLinkHtml;\n",
              "        element.appendChild(docLink);\n",
              "      }\n",
              "    </script>\n",
              "  </div>\n",
              "\n",
              "\n",
              "    <div id=\"df-3de2331f-5cee-49c5-b97b-bc2c84c2930f\">\n",
              "      <button class=\"colab-df-quickchart\" onclick=\"quickchart('df-3de2331f-5cee-49c5-b97b-bc2c84c2930f')\"\n",
              "                title=\"Suggest charts\"\n",
              "                style=\"display:none;\">\n",
              "\n",
              "<svg xmlns=\"http://www.w3.org/2000/svg\" height=\"24px\"viewBox=\"0 0 24 24\"\n",
              "     width=\"24px\">\n",
              "    <g>\n",
              "        <path d=\"M19 3H5c-1.1 0-2 .9-2 2v14c0 1.1.9 2 2 2h14c1.1 0 2-.9 2-2V5c0-1.1-.9-2-2-2zM9 17H7v-7h2v7zm4 0h-2V7h2v10zm4 0h-2v-4h2v4z\"/>\n",
              "    </g>\n",
              "</svg>\n",
              "      </button>\n",
              "\n",
              "<style>\n",
              "  .colab-df-quickchart {\n",
              "      --bg-color: #E8F0FE;\n",
              "      --fill-color: #1967D2;\n",
              "      --hover-bg-color: #E2EBFA;\n",
              "      --hover-fill-color: #174EA6;\n",
              "      --disabled-fill-color: #AAA;\n",
              "      --disabled-bg-color: #DDD;\n",
              "  }\n",
              "\n",
              "  [theme=dark] .colab-df-quickchart {\n",
              "      --bg-color: #3B4455;\n",
              "      --fill-color: #D2E3FC;\n",
              "      --hover-bg-color: #434B5C;\n",
              "      --hover-fill-color: #FFFFFF;\n",
              "      --disabled-bg-color: #3B4455;\n",
              "      --disabled-fill-color: #666;\n",
              "  }\n",
              "\n",
              "  .colab-df-quickchart {\n",
              "    background-color: var(--bg-color);\n",
              "    border: none;\n",
              "    border-radius: 50%;\n",
              "    cursor: pointer;\n",
              "    display: none;\n",
              "    fill: var(--fill-color);\n",
              "    height: 32px;\n",
              "    padding: 0;\n",
              "    width: 32px;\n",
              "  }\n",
              "\n",
              "  .colab-df-quickchart:hover {\n",
              "    background-color: var(--hover-bg-color);\n",
              "    box-shadow: 0 1px 2px rgba(60, 64, 67, 0.3), 0 1px 3px 1px rgba(60, 64, 67, 0.15);\n",
              "    fill: var(--button-hover-fill-color);\n",
              "  }\n",
              "\n",
              "  .colab-df-quickchart-complete:disabled,\n",
              "  .colab-df-quickchart-complete:disabled:hover {\n",
              "    background-color: var(--disabled-bg-color);\n",
              "    fill: var(--disabled-fill-color);\n",
              "    box-shadow: none;\n",
              "  }\n",
              "\n",
              "  .colab-df-spinner {\n",
              "    border: 2px solid var(--fill-color);\n",
              "    border-color: transparent;\n",
              "    border-bottom-color: var(--fill-color);\n",
              "    animation:\n",
              "      spin 1s steps(1) infinite;\n",
              "  }\n",
              "\n",
              "  @keyframes spin {\n",
              "    0% {\n",
              "      border-color: transparent;\n",
              "      border-bottom-color: var(--fill-color);\n",
              "      border-left-color: var(--fill-color);\n",
              "    }\n",
              "    20% {\n",
              "      border-color: transparent;\n",
              "      border-left-color: var(--fill-color);\n",
              "      border-top-color: var(--fill-color);\n",
              "    }\n",
              "    30% {\n",
              "      border-color: transparent;\n",
              "      border-left-color: var(--fill-color);\n",
              "      border-top-color: var(--fill-color);\n",
              "      border-right-color: var(--fill-color);\n",
              "    }\n",
              "    40% {\n",
              "      border-color: transparent;\n",
              "      border-right-color: var(--fill-color);\n",
              "      border-top-color: var(--fill-color);\n",
              "    }\n",
              "    60% {\n",
              "      border-color: transparent;\n",
              "      border-right-color: var(--fill-color);\n",
              "    }\n",
              "    80% {\n",
              "      border-color: transparent;\n",
              "      border-right-color: var(--fill-color);\n",
              "      border-bottom-color: var(--fill-color);\n",
              "    }\n",
              "    90% {\n",
              "      border-color: transparent;\n",
              "      border-bottom-color: var(--fill-color);\n",
              "    }\n",
              "  }\n",
              "</style>\n",
              "\n",
              "      <script>\n",
              "        async function quickchart(key) {\n",
              "          const quickchartButtonEl =\n",
              "            document.querySelector('#' + key + ' button');\n",
              "          quickchartButtonEl.disabled = true;  // To prevent multiple clicks.\n",
              "          quickchartButtonEl.classList.add('colab-df-spinner');\n",
              "          try {\n",
              "            const charts = await google.colab.kernel.invokeFunction(\n",
              "                'suggestCharts', [key], {});\n",
              "          } catch (error) {\n",
              "            console.error('Error during call to suggestCharts:', error);\n",
              "          }\n",
              "          quickchartButtonEl.classList.remove('colab-df-spinner');\n",
              "          quickchartButtonEl.classList.add('colab-df-quickchart-complete');\n",
              "        }\n",
              "        (() => {\n",
              "          let quickchartButtonEl =\n",
              "            document.querySelector('#df-3de2331f-5cee-49c5-b97b-bc2c84c2930f button');\n",
              "          quickchartButtonEl.style.display =\n",
              "            google.colab.kernel.accessAllowed ? 'block' : 'none';\n",
              "        })();\n",
              "      </script>\n",
              "    </div>\n",
              "\n",
              "    </div>\n",
              "  </div>\n"
            ],
            "application/vnd.google.colaboratory.intrinsic+json": {
              "type": "dataframe",
              "variable_name": "df"
            }
          },
          "metadata": {},
          "execution_count": 16
        }
      ]
    },
    {
      "cell_type": "code",
      "source": [],
      "metadata": {
        "id": "Wi-wcewt2Apf"
      },
      "execution_count": null,
      "outputs": []
    }
  ]
}